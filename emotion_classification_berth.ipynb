{
 "cells": [
  {
   "cell_type": "markdown",
   "id": "elementary-ceiling",
   "metadata": {},
   "source": [
    "# La roue des émotions"
   ]
  },
  {
   "cell_type": "code",
   "execution_count": 2,
   "id": "recent-payment",
   "metadata": {},
   "outputs": [],
   "source": [
    "import pandas as pd\n",
    "import numpy as np\n",
    "\n",
    "from sklearn.model_selection import train_test_split\n",
    "from sklearn.ensemble import RandomForestClassifier\n",
    "from sklearn.metrics import classification_report"
   ]
  },
  {
   "cell_type": "code",
   "execution_count": null,
   "id": "going-corrections",
   "metadata": {},
   "outputs": [],
   "source": [
    "pip install -U sentence-transformers"
   ]
  },
  {
   "cell_type": "code",
   "execution_count": null,
   "id": "manufactured-equipment",
   "metadata": {},
   "outputs": [],
   "source": [
    "from sentence_transformers import SentenceTransformer\n",
    "model = SentenceTransformer('paraphrase-distilroberta-base-v1')"
   ]
  },
  {
   "cell_type": "code",
   "execution_count": null,
   "id": "cardiovascular-imaging",
   "metadata": {},
   "outputs": [],
   "source": [
    "size = 5000"
   ]
  },
  {
   "cell_type": "code",
   "execution_count": null,
   "id": "consolidated-suggestion",
   "metadata": {},
   "outputs": [],
   "source": [
    "embeddings = model.encode(df['Text'][:size])"
   ]
  },
  {
   "cell_type": "code",
   "execution_count": null,
   "id": "quiet-romantic",
   "metadata": {},
   "outputs": [],
   "source": [
    "np.save('embeddings.npy', embeddings) # Save a numpy array in a .npy format"
   ]
  },
  {
   "cell_type": "code",
   "execution_count": null,
   "id": "suffering-franklin",
   "metadata": {},
   "outputs": [],
   "source": [
    "load_embedding = np.load('embeddings.npy') # load a numpy array from a .npy file"
   ]
  },
  {
   "cell_type": "code",
   "execution_count": null,
   "id": "acceptable-trailer",
   "metadata": {},
   "outputs": [],
   "source": [
    "X_train, X_test, y_train, y_test = train_test_split(embeddings, y, stratify=y,\n",
    "                                                    test_size=0.20)"
   ]
  },
  {
   "cell_type": "code",
   "execution_count": null,
   "id": "sunrise-inclusion",
   "metadata": {},
   "outputs": [],
   "source": [
    "clf = RandomForestClassifier()\n",
    "clf.fit(X_train, y_train)\n",
    "y_pred = clf.predict(X_test)\n",
    "\n",
    "print(classification_report(y_test, y_pred))"
   ]
  }
 ],
 "metadata": {
  "kernelspec": {
   "display_name": "Python 3",
   "language": "python",
   "name": "python3"
  },
  "language_info": {
   "codemirror_mode": {
    "name": "ipython",
    "version": 3
   },
   "file_extension": ".py",
   "mimetype": "text/x-python",
   "name": "python",
   "nbconvert_exporter": "python",
   "pygments_lexer": "ipython3",
   "version": "3.8.5"
  }
 },
 "nbformat": 4,
 "nbformat_minor": 5
}
