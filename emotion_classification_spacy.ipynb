{
 "cells": [
  {
   "cell_type": "markdown",
   "id": "smooth-radical",
   "metadata": {},
   "source": [
    "# La roue des émotions"
   ]
  },
  {
   "cell_type": "code",
   "execution_count": 1,
   "id": "healthy-length",
   "metadata": {},
   "outputs": [],
   "source": [
    "import pandas as pd\n",
    "import spacy"
   ]
  },
  {
   "cell_type": "code",
   "execution_count": 2,
   "id": "removable-vessel",
   "metadata": {},
   "outputs": [],
   "source": [
    "nlp = spacy.load('en_core_web_trf')"
   ]
  },
  {
   "cell_type": "code",
   "execution_count": 3,
   "id": "automatic-minimum",
   "metadata": {},
   "outputs": [],
   "source": [
    "df = pd.read_csv(r'C:\\Users\\straw\\Desktop\\AIS\\ProjectPool 2\\Roue-des-emotions\\Data\\emotions_final.csv', sep=',')"
   ]
  },
  {
   "cell_type": "markdown",
   "id": "binary-range",
   "metadata": {},
   "source": [
    "### Normalisation"
   ]
  },
  {
   "cell_type": "code",
   "execution_count": 4,
   "id": "coordinate-chassis",
   "metadata": {},
   "outputs": [],
   "source": [
    "lowers = []\n",
    "for i in range(0, df.shape[0]):\n",
    "    lowers.append(df['Text'][i].lower())"
   ]
  },
  {
   "cell_type": "markdown",
   "id": "artistic-consensus",
   "metadata": {},
   "source": [
    "### Tokenization et Lemmatization"
   ]
  },
  {
   "cell_type": "code",
   "execution_count": 5,
   "id": "disabled-recorder",
   "metadata": {},
   "outputs": [],
   "source": [
    "ids = []\n",
    "words = []\n",
    "lemmas = []\n",
    "for i in range(0, df.shape[0]):\n",
    "    doc = nlp(df['Text'][i])\n",
    "    for token in doc :\n",
    "        if not token.is_stop:\n",
    "            ids.append(i)\n",
    "            words.append(token.text)\n",
    "            lemmas.append(token.lemma_)"
   ]
  },
  {
   "cell_type": "code",
   "execution_count": 9,
   "id": "minus-layout",
   "metadata": {},
   "outputs": [],
   "source": [
    "df_words_lemmas = pd.DataFrame({'Doc': ids, 'Word': words, 'Lemma': lemmas}, columns=['Doc', 'Word', 'Lemma'])"
   ]
  },
  {
   "cell_type": "code",
   "execution_count": null,
   "id": "express-implementation",
   "metadata": {},
   "outputs": [],
   "source": []
  }
 ],
 "metadata": {
  "kernelspec": {
   "display_name": "Python 3",
   "language": "python",
   "name": "python3"
  },
  "language_info": {
   "codemirror_mode": {
    "name": "ipython",
    "version": 3
   },
   "file_extension": ".py",
   "mimetype": "text/x-python",
   "name": "python",
   "nbconvert_exporter": "python",
   "pygments_lexer": "ipython3",
   "version": "3.8.5"
  }
 },
 "nbformat": 4,
 "nbformat_minor": 5
}
